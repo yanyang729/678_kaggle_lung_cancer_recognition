{
 "cells": [
  {
   "cell_type": "code",
   "execution_count": 2,
   "metadata": {
    "collapsed": true,
    "deletable": true,
    "editable": true
   },
   "outputs": [],
   "source": [
    "import pandas as pd\n",
    "import numpy as np"
   ]
  },
  {
   "cell_type": "code",
   "execution_count": 26,
   "metadata": {
    "collapsed": false,
    "deletable": true,
    "editable": true
   },
   "outputs": [],
   "source": [
    "df = pd.read_csv('submit_stage2.csv')"
   ]
  },
  {
   "cell_type": "code",
   "execution_count": 27,
   "metadata": {
    "collapsed": false,
    "deletable": true,
    "editable": true
   },
   "outputs": [
    {
     "data": {
      "text/html": [
       "<div>\n",
       "<table border=\"1\" class=\"dataframe\">\n",
       "  <thead>\n",
       "    <tr style=\"text-align: right;\">\n",
       "      <th></th>\n",
       "      <th>canver</th>\n",
       "    </tr>\n",
       "  </thead>\n",
       "  <tbody>\n",
       "    <tr>\n",
       "      <th>0</th>\n",
       "      <td>[[ 1.96030951  0.79264772]]</td>\n",
       "    </tr>\n",
       "    <tr>\n",
       "      <th>1</th>\n",
       "      <td>[[ 1.40617108  0.41856304]]</td>\n",
       "    </tr>\n",
       "    <tr>\n",
       "      <th>2</th>\n",
       "      <td>[[ 2.05902719  1.37133563]]</td>\n",
       "    </tr>\n",
       "    <tr>\n",
       "      <th>3</th>\n",
       "      <td>[[ 2.14181256  1.09602678]]</td>\n",
       "    </tr>\n",
       "    <tr>\n",
       "      <th>4</th>\n",
       "      <td>[[ 1.8232882   1.00520122]]</td>\n",
       "    </tr>\n",
       "  </tbody>\n",
       "</table>\n",
       "</div>"
      ],
      "text/plain": [
       "                        canver\n",
       "0  [[ 1.96030951  0.79264772]]\n",
       "1  [[ 1.40617108  0.41856304]]\n",
       "2  [[ 2.05902719  1.37133563]]\n",
       "3  [[ 2.14181256  1.09602678]]\n",
       "4  [[ 1.8232882   1.00520122]]"
      ]
     },
     "execution_count": 27,
     "metadata": {},
     "output_type": "execute_result"
    }
   ],
   "source": [
    "df.head()"
   ]
  },
  {
   "cell_type": "code",
   "execution_count": 28,
   "metadata": {
    "collapsed": true,
    "deletable": true,
    "editable": true
   },
   "outputs": [],
   "source": [
    "def softmax(x):\n",
    "    \"\"\"Compute softmax values for each sets of scores in x.\"\"\"\n",
    "    return np.exp(x) / np.sum(np.exp(x), axis=0)\n",
    "\n",
    "def to_array_to_softmax(x):\n",
    "    x1 = x.replace('[','').replace(']','').strip().split(' ')[0]\n",
    "    x2 = x.replace('[','').replace(']','').strip().split(' ')[-1]\n",
    "    x = [float(x1),float(x2)]\n",
    "    return softmax(np.array(x))[1]"
   ]
  },
  {
   "cell_type": "code",
   "execution_count": 29,
   "metadata": {
    "collapsed": false,
    "deletable": true,
    "editable": true
   },
   "outputs": [],
   "source": [
    "df.canver = df.canver.apply(to_array_to_softmax);"
   ]
  },
  {
   "cell_type": "code",
   "execution_count": 30,
   "metadata": {
    "collapsed": true
   },
   "outputs": [],
   "source": [
    "from glob2 import glob"
   ]
  },
  {
   "cell_type": "code",
   "execution_count": 31,
   "metadata": {
    "collapsed": false
   },
   "outputs": [
    {
     "data": {
      "text/plain": [
       "'/home/yang/YyProj/bowl/678_kaggle_lung_cancer_recognition'"
      ]
     },
     "execution_count": 31,
     "metadata": {},
     "output_type": "execute_result"
    }
   ],
   "source": [
    "pwd"
   ]
  },
  {
   "cell_type": "code",
   "execution_count": 40,
   "metadata": {
    "collapsed": false
   },
   "outputs": [
    {
     "name": "stdout",
     "output_type": "stream",
     "text": [
      "678_kaggle_lung_cancer_recognition  preprocess1.py\r\n",
      "cnn_starter.ipynb\t\t    preprocess2.py\r\n",
      "cnn_starter.py\t\t\t    preprocessing2.html\r\n",
      "cnn_starter_tb.py\t\t    preprocessing_data2.py\r\n",
      "eda & transform.ipynb\t\t    stack_data.py\r\n",
      "floyd\t\t\t\t    stage1_sample_submission.csv\r\n",
      "input\t\t\t\t    submit.ipynb\r\n",
      "input_submit\t\t\t    tb1\r\n",
      "model_building_tuition.html\t    tb2\r\n",
      "muchdata\r\n"
     ]
    }
   ],
   "source": [
    "! ls ../"
   ]
  },
  {
   "cell_type": "code",
   "execution_count": 35,
   "metadata": {
    "collapsed": false
   },
   "outputs": [],
   "source": [
    "ids = [i.split(\"/\")[-1].split(\"_\")[0] for i in glob('../input_submit/*')]"
   ]
  },
  {
   "cell_type": "code",
   "execution_count": 36,
   "metadata": {
    "collapsed": false
   },
   "outputs": [],
   "source": [
    "df_sb = pd.DataFrame({'cancer':df.canver,'id':ids})"
   ]
  },
  {
   "cell_type": "code",
   "execution_count": 38,
   "metadata": {
    "collapsed": false
   },
   "outputs": [
    {
     "data": {
      "text/html": [
       "<div>\n",
       "<table border=\"1\" class=\"dataframe\">\n",
       "  <thead>\n",
       "    <tr style=\"text-align: right;\">\n",
       "      <th></th>\n",
       "      <th>cancer</th>\n",
       "      <th>id</th>\n",
       "    </tr>\n",
       "  </thead>\n",
       "  <tbody>\n",
       "    <tr>\n",
       "      <th>0</th>\n",
       "      <td>0.237278</td>\n",
       "      <td>fa39e1bdcb286b9161c867cd51d7bbbd</td>\n",
       "    </tr>\n",
       "    <tr>\n",
       "      <th>1</th>\n",
       "      <td>0.271385</td>\n",
       "      <td>7d1ac3893774add9b340a7d35891261d</td>\n",
       "    </tr>\n",
       "    <tr>\n",
       "      <th>2</th>\n",
       "      <td>0.334547</td>\n",
       "      <td>dfbc3ed94387313b0ad8e440d472097f</td>\n",
       "    </tr>\n",
       "    <tr>\n",
       "      <th>3</th>\n",
       "      <td>0.260035</td>\n",
       "      <td>f619be5384b06c6bec33c009cb0f055b</td>\n",
       "    </tr>\n",
       "    <tr>\n",
       "      <th>4</th>\n",
       "      <td>0.306170</td>\n",
       "      <td>b4c66cb01e2407607fd5be9d897d38d3</td>\n",
       "    </tr>\n",
       "  </tbody>\n",
       "</table>\n",
       "</div>"
      ],
      "text/plain": [
       "     cancer                                id\n",
       "0  0.237278  fa39e1bdcb286b9161c867cd51d7bbbd\n",
       "1  0.271385  7d1ac3893774add9b340a7d35891261d\n",
       "2  0.334547  dfbc3ed94387313b0ad8e440d472097f\n",
       "3  0.260035  f619be5384b06c6bec33c009cb0f055b\n",
       "4  0.306170  b4c66cb01e2407607fd5be9d897d38d3"
      ]
     },
     "execution_count": 38,
     "metadata": {},
     "output_type": "execute_result"
    }
   ],
   "source": [
    "df_sb.head()"
   ]
  },
  {
   "cell_type": "code",
   "execution_count": 139,
   "metadata": {
    "collapsed": false,
    "deletable": true,
    "editable": true
   },
   "outputs": [
    {
     "data": {
      "text/html": [
       "<div>\n",
       "<table border=\"1\" class=\"dataframe\">\n",
       "  <thead>\n",
       "    <tr style=\"text-align: right;\">\n",
       "      <th></th>\n",
       "      <th>cancer</th>\n",
       "      <th>id</th>\n",
       "    </tr>\n",
       "  </thead>\n",
       "  <tbody>\n",
       "    <tr>\n",
       "      <th>108</th>\n",
       "      <td>NaN</td>\n",
       "      <td>9b871732b3935661e7639e84a6ab9747</td>\n",
       "    </tr>\n",
       "  </tbody>\n",
       "</table>\n",
       "</div>"
      ],
      "text/plain": [
       "     cancer                                id\n",
       "108     NaN  9b871732b3935661e7639e84a6ab9747"
      ]
     },
     "execution_count": 139,
     "metadata": {},
     "output_type": "execute_result"
    }
   ],
   "source": [
    "df[df.cancer.isnull()]"
   ]
  },
  {
   "cell_type": "code",
   "execution_count": 42,
   "metadata": {
    "collapsed": false,
    "deletable": true,
    "editable": true
   },
   "outputs": [
    {
     "data": {
      "text/html": [
       "<div>\n",
       "<table border=\"1\" class=\"dataframe\">\n",
       "  <thead>\n",
       "    <tr style=\"text-align: right;\">\n",
       "      <th></th>\n",
       "      <th>id</th>\n",
       "      <th>cancer</th>\n",
       "    </tr>\n",
       "  </thead>\n",
       "  <tbody>\n",
       "    <tr>\n",
       "      <th>0</th>\n",
       "      <td>004828796b994741c4466f59a8c7e9a4</td>\n",
       "      <td>0.5</td>\n",
       "    </tr>\n",
       "    <tr>\n",
       "      <th>1</th>\n",
       "      <td>007c1246c5fe6f200378f6b91323dc2a</td>\n",
       "      <td>0.5</td>\n",
       "    </tr>\n",
       "    <tr>\n",
       "      <th>2</th>\n",
       "      <td>00f6c1bd02eb49e3d8dbfc7d957a709e</td>\n",
       "      <td>0.5</td>\n",
       "    </tr>\n",
       "    <tr>\n",
       "      <th>3</th>\n",
       "      <td>0171e54e4c0f68e8fc8c24523f71a86f</td>\n",
       "      <td>0.5</td>\n",
       "    </tr>\n",
       "    <tr>\n",
       "      <th>4</th>\n",
       "      <td>019cb268efb93de5446984242bac0380</td>\n",
       "      <td>0.5</td>\n",
       "    </tr>\n",
       "  </tbody>\n",
       "</table>\n",
       "</div>"
      ],
      "text/plain": [
       "                                 id  cancer\n",
       "0  004828796b994741c4466f59a8c7e9a4     0.5\n",
       "1  007c1246c5fe6f200378f6b91323dc2a     0.5\n",
       "2  00f6c1bd02eb49e3d8dbfc7d957a709e     0.5\n",
       "3  0171e54e4c0f68e8fc8c24523f71a86f     0.5\n",
       "4  019cb268efb93de5446984242bac0380     0.5"
      ]
     },
     "execution_count": 42,
     "metadata": {},
     "output_type": "execute_result"
    }
   ],
   "source": [
    "df_sample = pd.read_csv('../stage2_sample_submission.csv')\n",
    "df_sample.head()"
   ]
  },
  {
   "cell_type": "code",
   "execution_count": 43,
   "metadata": {
    "collapsed": false,
    "deletable": true,
    "editable": true
   },
   "outputs": [],
   "source": [
    "df_merged = pd.merge(df_sample,df_sb,on='id',how='left')"
   ]
  },
  {
   "cell_type": "code",
   "execution_count": 52,
   "metadata": {
    "collapsed": false
   },
   "outputs": [],
   "source": [
    "df_final = df_merged[['id','cancer_y']].copy()\n",
    "df_final.columns = ['id','cancer']\n",
    "df_final.to_csv('stage2_submit1.csv',index=False)"
   ]
  },
  {
   "cell_type": "code",
   "execution_count": 51,
   "metadata": {
    "collapsed": false
   },
   "outputs": [
    {
     "data": {
      "text/html": [
       "<div>\n",
       "<table border=\"1\" class=\"dataframe\">\n",
       "  <thead>\n",
       "    <tr style=\"text-align: right;\">\n",
       "      <th></th>\n",
       "      <th>id</th>\n",
       "      <th>cancer</th>\n",
       "    </tr>\n",
       "  </thead>\n",
       "  <tbody>\n",
       "    <tr>\n",
       "      <th>0</th>\n",
       "      <td>004828796b994741c4466f59a8c7e9a4</td>\n",
       "      <td>0.250169</td>\n",
       "    </tr>\n",
       "    <tr>\n",
       "      <th>1</th>\n",
       "      <td>007c1246c5fe6f200378f6b91323dc2a</td>\n",
       "      <td>0.306052</td>\n",
       "    </tr>\n",
       "    <tr>\n",
       "      <th>2</th>\n",
       "      <td>00f6c1bd02eb49e3d8dbfc7d957a709e</td>\n",
       "      <td>0.261755</td>\n",
       "    </tr>\n",
       "    <tr>\n",
       "      <th>3</th>\n",
       "      <td>0171e54e4c0f68e8fc8c24523f71a86f</td>\n",
       "      <td>0.247192</td>\n",
       "    </tr>\n",
       "    <tr>\n",
       "      <th>4</th>\n",
       "      <td>019cb268efb93de5446984242bac0380</td>\n",
       "      <td>0.311988</td>\n",
       "    </tr>\n",
       "  </tbody>\n",
       "</table>\n",
       "</div>"
      ],
      "text/plain": [
       "                                 id    cancer\n",
       "0  004828796b994741c4466f59a8c7e9a4  0.250169\n",
       "1  007c1246c5fe6f200378f6b91323dc2a  0.306052\n",
       "2  00f6c1bd02eb49e3d8dbfc7d957a709e  0.261755\n",
       "3  0171e54e4c0f68e8fc8c24523f71a86f  0.247192\n",
       "4  019cb268efb93de5446984242bac0380  0.311988"
      ]
     },
     "execution_count": 51,
     "metadata": {},
     "output_type": "execute_result"
    }
   ],
   "source": [
    "df_final.head()"
   ]
  },
  {
   "cell_type": "code",
   "execution_count": 49,
   "metadata": {
    "collapsed": false
   },
   "outputs": [
    {
     "data": {
      "text/plain": [
       "'/home/yang/YyProj/bowl/678_kaggle_lung_cancer_recognition'"
      ]
     },
     "execution_count": 49,
     "metadata": {},
     "output_type": "execute_result"
    }
   ],
   "source": [
    "pwd"
   ]
  },
  {
   "cell_type": "code",
   "execution_count": 53,
   "metadata": {
    "collapsed": false
   },
   "outputs": [
    {
     "name": "stdout",
     "output_type": "stream",
     "text": [
      "EDA_starter.ipynb  README.md\t\t      stage2_submit1.csv\r\n",
      "make_submit.ipynb  stage2_ouput_from_nn1.csv  xgboost_submit.py\r\n"
     ]
    }
   ],
   "source": [
    "!ls"
   ]
  },
  {
   "cell_type": "code",
   "execution_count": 54,
   "metadata": {
    "collapsed": false
   },
   "outputs": [
    {
     "data": {
      "text/plain": [
       "0      0.250169\n",
       "1      0.306052\n",
       "2      0.261755\n",
       "3      0.247192\n",
       "4      0.311988\n",
       "5      0.248242\n",
       "6      0.263748\n",
       "7      0.268576\n",
       "8      0.281033\n",
       "9      0.266418\n",
       "10     0.226084\n",
       "11     0.301808\n",
       "12     0.296112\n",
       "13     0.295470\n",
       "14     0.315752\n",
       "15     0.261444\n",
       "16     0.271369\n",
       "17     0.305071\n",
       "18     0.318748\n",
       "19     0.307451\n",
       "20     0.258369\n",
       "21     0.267633\n",
       "22     0.280982\n",
       "23     0.321943\n",
       "24     0.257081\n",
       "25     0.277517\n",
       "26     0.286326\n",
       "27     0.283986\n",
       "28     0.262259\n",
       "29     0.297313\n",
       "         ...   \n",
       "476    0.231370\n",
       "477    0.350916\n",
       "478    0.333313\n",
       "479    0.239420\n",
       "480    0.280412\n",
       "481    0.313261\n",
       "482    0.278159\n",
       "483    0.311912\n",
       "484    0.313755\n",
       "485    0.288827\n",
       "486    0.283129\n",
       "487    0.254185\n",
       "488    0.260035\n",
       "489    0.238425\n",
       "490    0.316996\n",
       "491    0.273315\n",
       "492    0.294392\n",
       "493    0.281105\n",
       "494    0.237278\n",
       "495    0.223179\n",
       "496    0.341645\n",
       "497    0.342772\n",
       "498    0.332674\n",
       "499    0.330006\n",
       "500    0.254490\n",
       "501    0.330684\n",
       "502    0.313957\n",
       "503    0.249699\n",
       "504    0.268150\n",
       "505    0.232245\n",
       "Name: cancer, dtype: float64"
      ]
     },
     "execution_count": 54,
     "metadata": {},
     "output_type": "execute_result"
    }
   ],
   "source": [
    "pd.read_csv('stage2_submit1.csv').cancer"
   ]
  },
  {
   "cell_type": "markdown",
   "metadata": {},
   "source": [
    "### test from stage1"
   ]
  },
  {
   "cell_type": "code",
   "execution_count": 131,
   "metadata": {
    "collapsed": true,
    "deletable": true,
    "editable": true
   },
   "outputs": [],
   "source": [
    "from  sklearn.metrics import log_loss"
   ]
  },
  {
   "cell_type": "code",
   "execution_count": 132,
   "metadata": {
    "collapsed": false,
    "deletable": true,
    "editable": true
   },
   "outputs": [
    {
     "data": {
      "text/plain": [
       "10.454245010822195"
      ]
     },
     "execution_count": 132,
     "metadata": {},
     "output_type": "execute_result"
    }
   ],
   "source": [
    "log_loss(df_merged.cancer_x,df_merged.cancer_y)"
   ]
  },
  {
   "cell_type": "code",
   "execution_count": null,
   "metadata": {
    "collapsed": true,
    "deletable": true,
    "editable": true
   },
   "outputs": [],
   "source": []
  }
 ],
 "metadata": {
  "kernelspec": {
   "display_name": "Python 3",
   "language": "python",
   "name": "python3"
  },
  "language_info": {
   "codemirror_mode": {
    "name": "ipython",
    "version": 3
   },
   "file_extension": ".py",
   "mimetype": "text/x-python",
   "name": "python",
   "nbconvert_exporter": "python",
   "pygments_lexer": "ipython3",
   "version": "3.5.3"
  }
 },
 "nbformat": 4,
 "nbformat_minor": 2
}
