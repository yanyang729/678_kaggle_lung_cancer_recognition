{
 "cells": [
  {
   "cell_type": "code",
   "execution_count": 24,
   "metadata": {
    "collapsed": false
   },
   "outputs": [],
   "source": [
    "import numpy as np # linear algebra\n",
    "import pandas as pd # data processing, CSV file I/O (e.g. pd.read_csv)\n",
    "import dicom\n",
    "import os\n",
    "import scipy.ndimage\n",
    "import matplotlib.pyplot as plt\n",
    "from skimage import measure, morphology\n",
    "from mpl_toolkits.mplot3d.art3d import Poly3DCollection\n",
    "%matplotlib inline\n",
    "pd.options.display.max_columns =512"
   ]
  },
  {
   "cell_type": "code",
   "execution_count": 5,
   "metadata": {
    "collapsed": false
   },
   "outputs": [
    {
     "name": "stdout",
     "output_type": "stream",
     "text": [
      "EDA_starter.ipynb             stage1_labels.csv\r\n",
      "data_password.txt             stage1_sample_submission.csv\r\n",
      "\u001b[34msample_images\u001b[m\u001b[m/\r\n"
     ]
    }
   ],
   "source": [
    "ls"
   ]
  },
  {
   "cell_type": "code",
   "execution_count": 28,
   "metadata": {
    "collapsed": false
   },
   "outputs": [],
   "source": [
    "_ = os.listdir('sample_images/'+'00cba091fa4ad62cc3200a657aeb957e')[1]"
   ]
  },
  {
   "cell_type": "code",
   "execution_count": 11,
   "metadata": {
    "collapsed": true
   },
   "outputs": [],
   "source": [
    "path ='sample_images/'+'00cba091fa4ad62cc3200a657aeb957e/'+'0484f5a7f55eb7b6743cadaffcce586d.dcm'"
   ]
  },
  {
   "cell_type": "code",
   "execution_count": 12,
   "metadata": {
    "collapsed": false
   },
   "outputs": [],
   "source": [
    "single_image = dicom.read_file(path)"
   ]
  },
  {
   "cell_type": "code",
   "execution_count": 16,
   "metadata": {
    "collapsed": false
   },
   "outputs": [
    {
     "data": {
      "text/plain": [
       "(0008, 0005) Specific Character Set              CS: 'ISO_IR 100'\n",
       "(0008, 0016) SOP Class UID                       UI: CT Image Storage\n",
       "(0008, 0018) SOP Instance UID                    UI: 1.2.840.113654.2.55.8306987463497364606174678624152789751\n",
       "(0008, 0060) Modality                            CS: 'CT'\n",
       "(0008, 103e) Series Description                  LO: 'Axial'\n",
       "(0010, 0010) Patient's Name                      PN: '00cba091fa4ad62cc3200a657aeb957e'\n",
       "(0010, 0020) Patient ID                          LO: '00cba091fa4ad62cc3200a657aeb957e'\n",
       "(0010, 0030) Patient's Birth Date                DA: '19000101'\n",
       "(0018, 0060) KVP                                 DS: ''\n",
       "(0020, 000d) Study Instance UID                  UI: 2.25.86208730140539712382771890501772734277950692397709007305473\n",
       "(0020, 000e) Series Instance UID                 UI: 2.25.11575877329635228925808596800269974740893519451784626046614\n",
       "(0020, 0011) Series Number                       IS: '3'\n",
       "(0020, 0012) Acquisition Number                  IS: '1'\n",
       "(0020, 0013) Instance Number                     IS: '19'\n",
       "(0020, 0020) Patient Orientation                 CS: ''\n",
       "(0020, 0032) Image Position (Patient)            DS: ['-145.500000', '-158.199997', '-68.699997']\n",
       "(0020, 0037) Image Orientation (Patient)         DS: ['1.000000', '0.000000', '0.000000', '0.000000', '1.000000', '0.000000']\n",
       "(0020, 0052) Frame of Reference UID              UI: 2.25.83033509634441686385652073462983801840121916678417719669650\n",
       "(0020, 1040) Position Reference Indicator        LO: 'SN'\n",
       "(0020, 1041) Slice Location                      DS: '-68.699997'\n",
       "(0028, 0002) Samples per Pixel                   US: 1\n",
       "(0028, 0004) Photometric Interpretation          CS: 'MONOCHROME2'\n",
       "(0028, 0010) Rows                                US: 512\n",
       "(0028, 0011) Columns                             US: 512\n",
       "(0028, 0030) Pixel Spacing                       DS: ['0.597656', '0.597656']\n",
       "(0028, 0100) Bits Allocated                      US: 16\n",
       "(0028, 0101) Bits Stored                         US: 16\n",
       "(0028, 0102) High Bit                            US: 15\n",
       "(0028, 0103) Pixel Representation                US: 1\n",
       "(0028, 0120) Pixel Padding Value                 US: 63536\n",
       "(0028, 1050) Window Center                       DS: '40'\n",
       "(0028, 1051) Window Width                        DS: '400'\n",
       "(0028, 1052) Rescale Intercept                   DS: '-1024'\n",
       "(0028, 1053) Rescale Slope                       DS: '1'\n",
       "(7fe0, 0010) Pixel Data                          OW: Array of 524288 bytes"
      ]
     },
     "execution_count": 16,
     "metadata": {},
     "output_type": "execute_result"
    }
   ],
   "source": [
    "single_image"
   ]
  },
  {
   "cell_type": "markdown",
   "metadata": {},
   "source": [
    "pd.DataFrame(single_image.pixel_array).iloc[200:300,:]"
   ]
  },
  {
   "cell_type": "code",
   "execution_count": null,
   "metadata": {
    "collapsed": true
   },
   "outputs": [],
   "source": [
    "# Convert to int16 (from sometimes int16), \n",
    "# should be possible as values should always be low enough (<32k)\n",
    "image = image.astype(np.int16)\n",
    "\n",
    "# Set outside-of-scan pixels to 0\n",
    "# The intercept is usually -1024, so air is approximately 0\n",
    "image[image == -2000] = 0\n",
    "\n",
    "# Convert to Hounsfield units (HU)\n",
    "for slice_number in range(len(slices)):\n",
    "\n",
    "    intercept = slices[slice_number].RescaleIntercept\n",
    "    slope = slices[slice_number].RescaleSlope\n",
    "\n",
    "    if slope != 1:\n",
    "        image[slice_number] = slope * image[slice_number].astype(np.float64)\n",
    "        image[slice_number] = image[slice_number].astype(np.int16)\n",
    "\n",
    "    image[slice_number] += np.int16(intercept)"
   ]
  }
 ],
 "metadata": {
  "kernelspec": {
   "display_name": "Python 2",
   "language": "python",
   "name": "python2"
  },
  "language_info": {
   "codemirror_mode": {
    "name": "ipython",
    "version": 2
   },
   "file_extension": ".py",
   "mimetype": "text/x-python",
   "name": "python",
   "nbconvert_exporter": "python",
   "pygments_lexer": "ipython2",
   "version": "2.7.13"
  }
 },
 "nbformat": 4,
 "nbformat_minor": 2
}
